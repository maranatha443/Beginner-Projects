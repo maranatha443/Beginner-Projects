{
 "cells": [
  {
   "cell_type": "code",
   "execution_count": 1,
   "metadata": {
    "_cell_guid": "b1076dfc-b9ad-4769-8c92-a6c4dae69d19",
    "_uuid": "8f2839f25d086af736a60e9eeb907d3b93b6e0e5",
    "execution": {
     "iopub.execute_input": "2020-09-01T16:30:54.400067Z",
     "iopub.status.busy": "2020-09-01T16:30:54.399317Z",
     "iopub.status.idle": "2020-09-01T16:30:55.834243Z",
     "shell.execute_reply": "2020-09-01T16:30:55.833532Z"
    },
    "papermill": {
     "duration": 1.455393,
     "end_time": "2020-09-01T16:30:55.834395",
     "exception": false,
     "start_time": "2020-09-01T16:30:54.379002",
     "status": "completed"
    },
    "tags": []
   },
   "outputs": [
    {
     "name": "stdout",
     "output_type": "stream",
     "text": [
      "/kaggle/input/titanic/gender_submission.csv\n",
      "/kaggle/input/titanic/test.csv\n",
      "/kaggle/input/titanic/train.csv\n"
     ]
    }
   ],
   "source": [
    "# This Python 3 environment comes with many helpful analytics libraries installed\n",
    "# It is defined by the kaggle/python Docker image: https://github.com/kaggle/docker-python\n",
    "# For example, here's several helpful packages to load\n",
    "\n",
    "import numpy as np # linear algebra\n",
    "import pandas as pd # data processing, CSV file I/O (e.g. pd.read_csv)\n",
    "import seaborn as sns\n",
    "\n",
    "# Input data files are available in the read-only \"../input/\" directory\n",
    "# For example, running this (by clicking run or pressing Shift+Enter) will list all files under the input directory\n",
    "\n",
    "import os\n",
    "for dirname, _, filenames in os.walk('/kaggle/input'):\n",
    "    for filename in filenames:\n",
    "        print(os.path.join(dirname, filename))\n",
    "\n",
    "# You can write up to 5GB to the current directory (/kaggle/working/) that gets preserved as output when you create a version using \"Save & Run All\" \n",
    "# You can also write temporary files to /kaggle/temp/, but they won't be saved outside of the current session"
   ]
  },
  {
   "cell_type": "code",
   "execution_count": 2,
   "metadata": {
    "_cell_guid": "79c7e3d0-c299-4dcb-8224-4455121ee9b0",
    "_uuid": "d629ff2d2480ee46fbb7e2d37f6b5fab8052498a",
    "execution": {
     "iopub.execute_input": "2020-09-01T16:30:55.862467Z",
     "iopub.status.busy": "2020-09-01T16:30:55.861596Z",
     "iopub.status.idle": "2020-09-01T16:30:55.900354Z",
     "shell.execute_reply": "2020-09-01T16:30:55.899824Z"
    },
    "papermill": {
     "duration": 0.056445,
     "end_time": "2020-09-01T16:30:55.900475",
     "exception": false,
     "start_time": "2020-09-01T16:30:55.844030",
     "status": "completed"
    },
    "tags": []
   },
   "outputs": [
    {
     "data": {
      "text/html": [
       "<div>\n",
       "<style scoped>\n",
       "    .dataframe tbody tr th:only-of-type {\n",
       "        vertical-align: middle;\n",
       "    }\n",
       "\n",
       "    .dataframe tbody tr th {\n",
       "        vertical-align: top;\n",
       "    }\n",
       "\n",
       "    .dataframe thead th {\n",
       "        text-align: right;\n",
       "    }\n",
       "</style>\n",
       "<table border=\"1\" class=\"dataframe\">\n",
       "  <thead>\n",
       "    <tr style=\"text-align: right;\">\n",
       "      <th></th>\n",
       "      <th>PassengerId</th>\n",
       "      <th>Survived</th>\n",
       "      <th>Pclass</th>\n",
       "      <th>Name</th>\n",
       "      <th>Sex</th>\n",
       "      <th>Age</th>\n",
       "      <th>SibSp</th>\n",
       "      <th>Parch</th>\n",
       "      <th>Ticket</th>\n",
       "      <th>Fare</th>\n",
       "      <th>Cabin</th>\n",
       "      <th>Embarked</th>\n",
       "    </tr>\n",
       "  </thead>\n",
       "  <tbody>\n",
       "    <tr>\n",
       "      <th>0</th>\n",
       "      <td>1</td>\n",
       "      <td>0</td>\n",
       "      <td>3</td>\n",
       "      <td>Braund, Mr. Owen Harris</td>\n",
       "      <td>male</td>\n",
       "      <td>22.0</td>\n",
       "      <td>1</td>\n",
       "      <td>0</td>\n",
       "      <td>A/5 21171</td>\n",
       "      <td>7.2500</td>\n",
       "      <td>NaN</td>\n",
       "      <td>S</td>\n",
       "    </tr>\n",
       "    <tr>\n",
       "      <th>1</th>\n",
       "      <td>2</td>\n",
       "      <td>1</td>\n",
       "      <td>1</td>\n",
       "      <td>Cumings, Mrs. John Bradley (Florence Briggs Th...</td>\n",
       "      <td>female</td>\n",
       "      <td>38.0</td>\n",
       "      <td>1</td>\n",
       "      <td>0</td>\n",
       "      <td>PC 17599</td>\n",
       "      <td>71.2833</td>\n",
       "      <td>C85</td>\n",
       "      <td>C</td>\n",
       "    </tr>\n",
       "    <tr>\n",
       "      <th>2</th>\n",
       "      <td>3</td>\n",
       "      <td>1</td>\n",
       "      <td>3</td>\n",
       "      <td>Heikkinen, Miss. Laina</td>\n",
       "      <td>female</td>\n",
       "      <td>26.0</td>\n",
       "      <td>0</td>\n",
       "      <td>0</td>\n",
       "      <td>STON/O2. 3101282</td>\n",
       "      <td>7.9250</td>\n",
       "      <td>NaN</td>\n",
       "      <td>S</td>\n",
       "    </tr>\n",
       "    <tr>\n",
       "      <th>3</th>\n",
       "      <td>4</td>\n",
       "      <td>1</td>\n",
       "      <td>1</td>\n",
       "      <td>Futrelle, Mrs. Jacques Heath (Lily May Peel)</td>\n",
       "      <td>female</td>\n",
       "      <td>35.0</td>\n",
       "      <td>1</td>\n",
       "      <td>0</td>\n",
       "      <td>113803</td>\n",
       "      <td>53.1000</td>\n",
       "      <td>C123</td>\n",
       "      <td>S</td>\n",
       "    </tr>\n",
       "    <tr>\n",
       "      <th>4</th>\n",
       "      <td>5</td>\n",
       "      <td>0</td>\n",
       "      <td>3</td>\n",
       "      <td>Allen, Mr. William Henry</td>\n",
       "      <td>male</td>\n",
       "      <td>35.0</td>\n",
       "      <td>0</td>\n",
       "      <td>0</td>\n",
       "      <td>373450</td>\n",
       "      <td>8.0500</td>\n",
       "      <td>NaN</td>\n",
       "      <td>S</td>\n",
       "    </tr>\n",
       "  </tbody>\n",
       "</table>\n",
       "</div>"
      ],
      "text/plain": [
       "   PassengerId  Survived  Pclass  \\\n",
       "0            1         0       3   \n",
       "1            2         1       1   \n",
       "2            3         1       3   \n",
       "3            4         1       1   \n",
       "4            5         0       3   \n",
       "\n",
       "                                                Name     Sex   Age  SibSp  \\\n",
       "0                            Braund, Mr. Owen Harris    male  22.0      1   \n",
       "1  Cumings, Mrs. John Bradley (Florence Briggs Th...  female  38.0      1   \n",
       "2                             Heikkinen, Miss. Laina  female  26.0      0   \n",
       "3       Futrelle, Mrs. Jacques Heath (Lily May Peel)  female  35.0      1   \n",
       "4                           Allen, Mr. William Henry    male  35.0      0   \n",
       "\n",
       "   Parch            Ticket     Fare Cabin Embarked  \n",
       "0      0         A/5 21171   7.2500   NaN        S  \n",
       "1      0          PC 17599  71.2833   C85        C  \n",
       "2      0  STON/O2. 3101282   7.9250   NaN        S  \n",
       "3      0            113803  53.1000  C123        S  \n",
       "4      0            373450   8.0500   NaN        S  "
      ]
     },
     "execution_count": 2,
     "metadata": {},
     "output_type": "execute_result"
    }
   ],
   "source": [
    "train_data = pd.read_csv(\"../input/titanic/train.csv\")\n",
    "train_data.head()"
   ]
  },
  {
   "cell_type": "code",
   "execution_count": 3,
   "metadata": {
    "execution": {
     "iopub.execute_input": "2020-09-01T16:30:55.925582Z",
     "iopub.status.busy": "2020-09-01T16:30:55.924879Z",
     "iopub.status.idle": "2020-09-01T16:30:55.945039Z",
     "shell.execute_reply": "2020-09-01T16:30:55.944423Z"
    },
    "papermill": {
     "duration": 0.035267,
     "end_time": "2020-09-01T16:30:55.945149",
     "exception": false,
     "start_time": "2020-09-01T16:30:55.909882",
     "status": "completed"
    },
    "tags": []
   },
   "outputs": [
    {
     "data": {
      "text/html": [
       "<div>\n",
       "<style scoped>\n",
       "    .dataframe tbody tr th:only-of-type {\n",
       "        vertical-align: middle;\n",
       "    }\n",
       "\n",
       "    .dataframe tbody tr th {\n",
       "        vertical-align: top;\n",
       "    }\n",
       "\n",
       "    .dataframe thead th {\n",
       "        text-align: right;\n",
       "    }\n",
       "</style>\n",
       "<table border=\"1\" class=\"dataframe\">\n",
       "  <thead>\n",
       "    <tr style=\"text-align: right;\">\n",
       "      <th></th>\n",
       "      <th>PassengerId</th>\n",
       "      <th>Pclass</th>\n",
       "      <th>Name</th>\n",
       "      <th>Sex</th>\n",
       "      <th>Age</th>\n",
       "      <th>SibSp</th>\n",
       "      <th>Parch</th>\n",
       "      <th>Ticket</th>\n",
       "      <th>Fare</th>\n",
       "      <th>Cabin</th>\n",
       "      <th>Embarked</th>\n",
       "    </tr>\n",
       "  </thead>\n",
       "  <tbody>\n",
       "    <tr>\n",
       "      <th>0</th>\n",
       "      <td>892</td>\n",
       "      <td>3</td>\n",
       "      <td>Kelly, Mr. James</td>\n",
       "      <td>male</td>\n",
       "      <td>34.5</td>\n",
       "      <td>0</td>\n",
       "      <td>0</td>\n",
       "      <td>330911</td>\n",
       "      <td>7.8292</td>\n",
       "      <td>NaN</td>\n",
       "      <td>Q</td>\n",
       "    </tr>\n",
       "    <tr>\n",
       "      <th>1</th>\n",
       "      <td>893</td>\n",
       "      <td>3</td>\n",
       "      <td>Wilkes, Mrs. James (Ellen Needs)</td>\n",
       "      <td>female</td>\n",
       "      <td>47.0</td>\n",
       "      <td>1</td>\n",
       "      <td>0</td>\n",
       "      <td>363272</td>\n",
       "      <td>7.0000</td>\n",
       "      <td>NaN</td>\n",
       "      <td>S</td>\n",
       "    </tr>\n",
       "    <tr>\n",
       "      <th>2</th>\n",
       "      <td>894</td>\n",
       "      <td>2</td>\n",
       "      <td>Myles, Mr. Thomas Francis</td>\n",
       "      <td>male</td>\n",
       "      <td>62.0</td>\n",
       "      <td>0</td>\n",
       "      <td>0</td>\n",
       "      <td>240276</td>\n",
       "      <td>9.6875</td>\n",
       "      <td>NaN</td>\n",
       "      <td>Q</td>\n",
       "    </tr>\n",
       "    <tr>\n",
       "      <th>3</th>\n",
       "      <td>895</td>\n",
       "      <td>3</td>\n",
       "      <td>Wirz, Mr. Albert</td>\n",
       "      <td>male</td>\n",
       "      <td>27.0</td>\n",
       "      <td>0</td>\n",
       "      <td>0</td>\n",
       "      <td>315154</td>\n",
       "      <td>8.6625</td>\n",
       "      <td>NaN</td>\n",
       "      <td>S</td>\n",
       "    </tr>\n",
       "    <tr>\n",
       "      <th>4</th>\n",
       "      <td>896</td>\n",
       "      <td>3</td>\n",
       "      <td>Hirvonen, Mrs. Alexander (Helga E Lindqvist)</td>\n",
       "      <td>female</td>\n",
       "      <td>22.0</td>\n",
       "      <td>1</td>\n",
       "      <td>1</td>\n",
       "      <td>3101298</td>\n",
       "      <td>12.2875</td>\n",
       "      <td>NaN</td>\n",
       "      <td>S</td>\n",
       "    </tr>\n",
       "  </tbody>\n",
       "</table>\n",
       "</div>"
      ],
      "text/plain": [
       "   PassengerId  Pclass                                          Name     Sex  \\\n",
       "0          892       3                              Kelly, Mr. James    male   \n",
       "1          893       3              Wilkes, Mrs. James (Ellen Needs)  female   \n",
       "2          894       2                     Myles, Mr. Thomas Francis    male   \n",
       "3          895       3                              Wirz, Mr. Albert    male   \n",
       "4          896       3  Hirvonen, Mrs. Alexander (Helga E Lindqvist)  female   \n",
       "\n",
       "    Age  SibSp  Parch   Ticket     Fare Cabin Embarked  \n",
       "0  34.5      0      0   330911   7.8292   NaN        Q  \n",
       "1  47.0      1      0   363272   7.0000   NaN        S  \n",
       "2  62.0      0      0   240276   9.6875   NaN        Q  \n",
       "3  27.0      0      0   315154   8.6625   NaN        S  \n",
       "4  22.0      1      1  3101298  12.2875   NaN        S  "
      ]
     },
     "execution_count": 3,
     "metadata": {},
     "output_type": "execute_result"
    }
   ],
   "source": [
    "test_data = pd.read_csv(\"../input/titanic/test.csv\")\n",
    "test_data.head()"
   ]
  },
  {
   "cell_type": "code",
   "execution_count": 4,
   "metadata": {
    "execution": {
     "iopub.execute_input": "2020-09-01T16:30:55.977306Z",
     "iopub.status.busy": "2020-09-01T16:30:55.976453Z",
     "iopub.status.idle": "2020-09-01T16:30:55.979714Z",
     "shell.execute_reply": "2020-09-01T16:30:55.980146Z"
    },
    "papermill": {
     "duration": 0.024951,
     "end_time": "2020-09-01T16:30:55.980327",
     "exception": false,
     "start_time": "2020-09-01T16:30:55.955376",
     "status": "completed"
    },
    "tags": []
   },
   "outputs": [
    {
     "name": "stdout",
     "output_type": "stream",
     "text": [
      "% of women who survived: 0.7420382165605095\n"
     ]
    }
   ],
   "source": [
    "women = train_data.loc[train_data.Sex == 'female'][\"Survived\"]\n",
    "rate_women = sum(women)/len(women)\n",
    "\n",
    "print(\"% of women who survived:\", rate_women)"
   ]
  },
  {
   "cell_type": "code",
   "execution_count": 5,
   "metadata": {
    "execution": {
     "iopub.execute_input": "2020-09-01T16:30:56.009375Z",
     "iopub.status.busy": "2020-09-01T16:30:56.008594Z",
     "iopub.status.idle": "2020-09-01T16:30:56.011805Z",
     "shell.execute_reply": "2020-09-01T16:30:56.012252Z"
    },
    "papermill": {
     "duration": 0.021578,
     "end_time": "2020-09-01T16:30:56.012421",
     "exception": false,
     "start_time": "2020-09-01T16:30:55.990843",
     "status": "completed"
    },
    "tags": []
   },
   "outputs": [
    {
     "name": "stdout",
     "output_type": "stream",
     "text": [
      "% of men who survived: 0.18890814558058924\n"
     ]
    }
   ],
   "source": [
    "men = train_data.loc[train_data.Sex == 'male'][\"Survived\"]\n",
    "rate_men = sum(men)/len(men)\n",
    "print(\"% of men who survived:\", rate_men)"
   ]
  },
  {
   "cell_type": "code",
   "execution_count": 6,
   "metadata": {
    "execution": {
     "iopub.execute_input": "2020-09-01T16:30:56.039593Z",
     "iopub.status.busy": "2020-09-01T16:30:56.038694Z",
     "iopub.status.idle": "2020-09-01T16:30:56.041699Z",
     "shell.execute_reply": "2020-09-01T16:30:56.041041Z"
    },
    "papermill": {
     "duration": 0.018337,
     "end_time": "2020-09-01T16:30:56.041815",
     "exception": false,
     "start_time": "2020-09-01T16:30:56.023478",
     "status": "completed"
    },
    "tags": []
   },
   "outputs": [],
   "source": [
    "# features = [\"Pclass\", \"Sex\", \"SibSp\", \"Parch\", \"Age\", \"Fare\"]\n",
    "# sns.pairplot(data=train_data[features])"
   ]
  },
  {
   "cell_type": "code",
   "execution_count": 7,
   "metadata": {
    "execution": {
     "iopub.execute_input": "2020-09-01T16:30:56.069349Z",
     "iopub.status.busy": "2020-09-01T16:30:56.068648Z",
     "iopub.status.idle": "2020-09-01T16:30:56.454307Z",
     "shell.execute_reply": "2020-09-01T16:30:56.453660Z"
    },
    "papermill": {
     "duration": 0.401545,
     "end_time": "2020-09-01T16:30:56.454445",
     "exception": false,
     "start_time": "2020-09-01T16:30:56.052900",
     "status": "completed"
    },
    "tags": []
   },
   "outputs": [],
   "source": [
    "from sklearn.ensemble import RandomForestClassifier\n",
    "from sklearn.metrics import mean_absolute_error\n",
    "from sklearn.model_selection import train_test_split"
   ]
  },
  {
   "cell_type": "code",
   "execution_count": 8,
   "metadata": {
    "execution": {
     "iopub.execute_input": "2020-09-01T16:30:56.495371Z",
     "iopub.status.busy": "2020-09-01T16:30:56.494359Z",
     "iopub.status.idle": "2020-09-01T16:30:56.498811Z",
     "shell.execute_reply": "2020-09-01T16:30:56.498146Z"
    },
    "papermill": {
     "duration": 0.032932,
     "end_time": "2020-09-01T16:30:56.498932",
     "exception": false,
     "start_time": "2020-09-01T16:30:56.466000",
     "status": "completed"
    },
    "tags": []
   },
   "outputs": [
    {
     "data": {
      "text/plain": [
       "<bound method Series.sort_values of 0      22.0\n",
       "1      38.0\n",
       "2      26.0\n",
       "3      35.0\n",
       "4      35.0\n",
       "       ... \n",
       "886    27.0\n",
       "887    19.0\n",
       "888    30.0\n",
       "889    26.0\n",
       "890    32.0\n",
       "Name: Age, Length: 891, dtype: float64>"
      ]
     },
     "execution_count": 8,
     "metadata": {},
     "output_type": "execute_result"
    }
   ],
   "source": [
    "def get_value(best, X_train, y_train, X_tes, y_tes):\n",
    "    model = RandomForestClassifier(n_estimators=best, random_state=1)\n",
    "    model.fit(X_train, y_train)\n",
    "    mea = mean_absolute_error(model.predict(X_tes), y_tes)\n",
    "    return mea\n",
    "train_data.Fare.fillna(train_data['Fare'].mean(), inplace=True)\n",
    "train_data.Age.fillna(train_data['Age'].mean(), inplace=True)\n",
    "train_data.Age = train_data.Age.round()\n",
    "test_data.Fare.fillna(test_data['Fare'].mean(), inplace=True)\n",
    "test_data.Age.fillna(test_data['Age'].mean(), inplace=True)\n",
    "test_data.Age = test_data.Age.round()\n",
    "#train_data.Age = train_data.Age.astype(int)\n",
    "#train_data.isnull().value_counts()\n",
    "train_data.Age.sort_values\n",
    "#sns.distplot(a=train_data.Age)"
   ]
  },
  {
   "cell_type": "code",
   "execution_count": 9,
   "metadata": {
    "execution": {
     "iopub.execute_input": "2020-09-01T16:30:56.537336Z",
     "iopub.status.busy": "2020-09-01T16:30:56.536654Z",
     "iopub.status.idle": "2020-09-01T16:30:56.557986Z",
     "shell.execute_reply": "2020-09-01T16:30:56.557360Z"
    },
    "papermill": {
     "duration": 0.047206,
     "end_time": "2020-09-01T16:30:56.558097",
     "exception": false,
     "start_time": "2020-09-01T16:30:56.510891",
     "status": "completed"
    },
    "tags": []
   },
   "outputs": [
    {
     "data": {
      "text/plain": [
       "Pclass  SibSp  Parch  Age    Fare   male   female\n",
       "False   False  False  False  False  False  False     418\n",
       "dtype: int64"
      ]
     },
     "execution_count": 9,
     "metadata": {},
     "output_type": "execute_result"
    }
   ],
   "source": [
    "y = train_data[\"Survived\"]\n",
    "temp = pd.get_dummies(train_data['Sex'])\n",
    "tempo = pd.get_dummies(test_data['Sex'])\n",
    "features = [\"Pclass\", \"SibSp\", \"Parch\", \"Age\",\"Fare\", \"male\", \"female\"]\n",
    "train_data['male'] = temp['male']\n",
    "train_data[ 'female'] = temp['female'] \n",
    "train_data\n",
    "X = train_data[features]\n",
    "test_data['male'] = tempo['male']\n",
    "test_data[ 'female'] = tempo['female'] \n",
    "train_data\n",
    "X_test = test_data[features]\n",
    "X_train, val_X, y_train, val_y = train_test_split(X, y, test_size= 0.3, random_state=1)\n",
    "X_test.isnull().value_counts()"
   ]
  },
  {
   "cell_type": "code",
   "execution_count": 10,
   "metadata": {
    "execution": {
     "iopub.execute_input": "2020-09-01T16:30:56.593893Z",
     "iopub.status.busy": "2020-09-01T16:30:56.593233Z",
     "iopub.status.idle": "2020-09-01T16:30:56.602920Z",
     "shell.execute_reply": "2020-09-01T16:30:56.602339Z"
    },
    "papermill": {
     "duration": 0.032335,
     "end_time": "2020-09-01T16:30:56.603032",
     "exception": false,
     "start_time": "2020-09-01T16:30:56.570697",
     "status": "completed"
    },
    "tags": []
   },
   "outputs": [],
   "source": [
    "from sklearn.preprocessing import StandardScaler\n",
    "\n",
    "sc = StandardScaler()\n",
    "X_train = sc.fit_transform(X_train)\n",
    "val_X = sc.transform(val_X)\n",
    "X_test = sc.transform(X_test)\n",
    "X = sc.transform(X)"
   ]
  },
  {
   "cell_type": "code",
   "execution_count": 11,
   "metadata": {
    "execution": {
     "iopub.execute_input": "2020-09-01T16:30:56.642079Z",
     "iopub.status.busy": "2020-09-01T16:30:56.641093Z",
     "iopub.status.idle": "2020-09-01T16:30:56.645900Z",
     "shell.execute_reply": "2020-09-01T16:30:56.645169Z"
    },
    "papermill": {
     "duration": 0.028146,
     "end_time": "2020-09-01T16:30:56.646062",
     "exception": false,
     "start_time": "2020-09-01T16:30:56.617916",
     "status": "completed"
    },
    "tags": []
   },
   "outputs": [],
   "source": [
    "# df = pd.DataFrame(columns=['MEA', 'n-value'])\n",
    "# for i in range(1,10):\n",
    "#     my_mea = get_value(i,X_train, y_train, val_X, val_y)\n",
    "#     df.loc[i, 'MEA'] = my_mea\n",
    "#     df.loc[i, 'n-value'] = i\n",
    "# df"
   ]
  },
  {
   "cell_type": "code",
   "execution_count": 12,
   "metadata": {
    "execution": {
     "iopub.execute_input": "2020-09-01T16:30:56.686848Z",
     "iopub.status.busy": "2020-09-01T16:30:56.685904Z",
     "iopub.status.idle": "2020-09-01T16:30:56.688433Z",
     "shell.execute_reply": "2020-09-01T16:30:56.689154Z"
    },
    "papermill": {
     "duration": 0.026011,
     "end_time": "2020-09-01T16:30:56.689386",
     "exception": false,
     "start_time": "2020-09-01T16:30:56.663375",
     "status": "completed"
    },
    "tags": []
   },
   "outputs": [],
   "source": [
    "# df.plot(x='n-value', y='MEA', figsize=(22,15))"
   ]
  },
  {
   "cell_type": "code",
   "execution_count": 13,
   "metadata": {
    "execution": {
     "iopub.execute_input": "2020-09-01T16:30:56.747539Z",
     "iopub.status.busy": "2020-09-01T16:30:56.746498Z",
     "iopub.status.idle": "2020-09-01T16:30:56.767635Z",
     "shell.execute_reply": "2020-09-01T16:30:56.768241Z"
    },
    "papermill": {
     "duration": 0.061939,
     "end_time": "2020-09-01T16:30:56.768433",
     "exception": false,
     "start_time": "2020-09-01T16:30:56.706494",
     "status": "completed"
    },
    "tags": []
   },
   "outputs": [],
   "source": [
    "model = RandomForestClassifier(n_estimators=6, max_depth=5, random_state=1)\n",
    "model.fit(X, y)\n",
    "predictions = model.predict(X_test)"
   ]
  },
  {
   "cell_type": "code",
   "execution_count": 14,
   "metadata": {
    "execution": {
     "iopub.execute_input": "2020-09-01T16:30:56.806143Z",
     "iopub.status.busy": "2020-09-01T16:30:56.805356Z",
     "iopub.status.idle": "2020-09-01T16:30:57.208962Z",
     "shell.execute_reply": "2020-09-01T16:30:57.209536Z"
    },
    "papermill": {
     "duration": 0.425796,
     "end_time": "2020-09-01T16:30:57.209710",
     "exception": false,
     "start_time": "2020-09-01T16:30:56.783914",
     "status": "completed"
    },
    "tags": []
   },
   "outputs": [
    {
     "name": "stdout",
     "output_type": "stream",
     "text": [
      "Your submission was successfully saved!\n"
     ]
    }
   ],
   "source": [
    "output = pd.DataFrame({'PassengerId': test_data.PassengerId, 'Survived': predictions})\n",
    "output.to_csv('my_submission.csv', index=False)\n",
    "print(\"Your submission was successfully saved!\")"
   ]
  }
 ],
 "metadata": {
  "kernelspec": {
   "display_name": "Python 3",
   "language": "python",
   "name": "python3"
  },
  "language_info": {
   "codemirror_mode": {
    "name": "ipython",
    "version": 3
   },
   "file_extension": ".py",
   "mimetype": "text/x-python",
   "name": "python",
   "nbconvert_exporter": "python",
   "pygments_lexer": "ipython3",
   "version": "3.7.6"
  },
  "papermill": {
   "duration": 9.048803,
   "end_time": "2020-09-01T16:30:57.333835",
   "environment_variables": {},
   "exception": null,
   "input_path": "__notebook__.ipynb",
   "output_path": "__notebook__.ipynb",
   "parameters": {},
   "start_time": "2020-09-01T16:30:48.285032",
   "version": "2.1.0"
  }
 },
 "nbformat": 4,
 "nbformat_minor": 4
}
