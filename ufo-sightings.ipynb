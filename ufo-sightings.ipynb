{
 "cells": [
  {
   "cell_type": "code",
   "execution_count": 1,
   "id": "7f871424",
   "metadata": {
    "_cell_guid": "b1076dfc-b9ad-4769-8c92-a6c4dae69d19",
    "_uuid": "8f2839f25d086af736a60e9eeb907d3b93b6e0e5",
    "execution": {
     "iopub.execute_input": "2022-05-27T15:26:50.832518Z",
     "iopub.status.busy": "2022-05-27T15:26:50.831931Z",
     "iopub.status.idle": "2022-05-27T15:26:52.253056Z",
     "shell.execute_reply": "2022-05-27T15:26:52.251931Z"
    },
    "papermill": {
     "duration": 1.434876,
     "end_time": "2022-05-27T15:26:52.255888",
     "exception": false,
     "start_time": "2022-05-27T15:26:50.821012",
     "status": "completed"
    },
    "tags": []
   },
   "outputs": [
    {
     "name": "stdout",
     "output_type": "stream",
     "text": [
      "/kaggle/input/ufo-sightings/complete.csv\n",
      "/kaggle/input/ufo-sightings/scrubbed.csv\n"
     ]
    }
   ],
   "source": [
    "# This Python 3 environment comes with many helpful analytics libraries installed\n",
    "# It is defined by the kaggle/python Docker image: https://github.com/kaggle/docker-python\n",
    "# For example, here's several helpful packages to load\n",
    "\n",
    "import numpy as np # linear algebra\n",
    "import pandas as pd # data processing, CSV file I/O (e.g. pd.read_csv)\n",
    "from sklearn.impute import SimpleImputer\n",
    "\n",
    "# Input data files are available in the read-only \"../input/\" directory\n",
    "# For example, running this (by clicking run or pressing Shift+Enter) will list all files under the input directory\n",
    "\n",
    "import os\n",
    "for dirname, _, filenames in os.walk('/kaggle/input'):\n",
    "    for filename in filenames:\n",
    "        print(os.path.join(dirname, filename))\n",
    "\n",
    "# You can write up to 20GB to the current directory (/kaggle/working/) that gets preserved as output when you create a version using \"Save & Run All\" \n",
    "# You can also write temporary files to /kaggle/temp/, but they won't be saved outside of the current session"
   ]
  },
  {
   "cell_type": "code",
   "execution_count": 2,
   "id": "31171d7d",
   "metadata": {
    "execution": {
     "iopub.execute_input": "2022-05-27T15:26:52.269505Z",
     "iopub.status.busy": "2022-05-27T15:26:52.269082Z",
     "iopub.status.idle": "2022-05-27T15:26:52.820697Z",
     "shell.execute_reply": "2022-05-27T15:26:52.819283Z"
    },
    "papermill": {
     "duration": 0.561079,
     "end_time": "2022-05-27T15:26:52.822965",
     "exception": false,
     "start_time": "2022-05-27T15:26:52.261886",
     "status": "completed"
    },
    "tags": []
   },
   "outputs": [
    {
     "name": "stderr",
     "output_type": "stream",
     "text": [
      "/opt/conda/lib/python3.7/site-packages/IPython/core/interactiveshell.py:3552: DtypeWarning: Columns (5,9) have mixed types.Specify dtype option on import or set low_memory=False.\n",
      "  exec(code_obj, self.user_global_ns, self.user_ns)\n"
     ]
    },
    {
     "data": {
      "text/html": [
       "<div>\n",
       "<style scoped>\n",
       "    .dataframe tbody tr th:only-of-type {\n",
       "        vertical-align: middle;\n",
       "    }\n",
       "\n",
       "    .dataframe tbody tr th {\n",
       "        vertical-align: top;\n",
       "    }\n",
       "\n",
       "    .dataframe thead th {\n",
       "        text-align: right;\n",
       "    }\n",
       "</style>\n",
       "<table border=\"1\" class=\"dataframe\">\n",
       "  <thead>\n",
       "    <tr style=\"text-align: right;\">\n",
       "      <th></th>\n",
       "      <th>datetime</th>\n",
       "      <th>city</th>\n",
       "      <th>state</th>\n",
       "      <th>country</th>\n",
       "      <th>shape</th>\n",
       "      <th>duration (seconds)</th>\n",
       "      <th>duration (hours/min)</th>\n",
       "      <th>comments</th>\n",
       "      <th>date posted</th>\n",
       "      <th>latitude</th>\n",
       "      <th>longitude</th>\n",
       "    </tr>\n",
       "  </thead>\n",
       "  <tbody>\n",
       "    <tr>\n",
       "      <th>0</th>\n",
       "      <td>10/10/1949 20:30</td>\n",
       "      <td>san marcos</td>\n",
       "      <td>tx</td>\n",
       "      <td>us</td>\n",
       "      <td>cylinder</td>\n",
       "      <td>2700</td>\n",
       "      <td>45 minutes</td>\n",
       "      <td>This event took place in early fall around 194...</td>\n",
       "      <td>4/27/2004</td>\n",
       "      <td>29.8830556</td>\n",
       "      <td>-97.941111</td>\n",
       "    </tr>\n",
       "    <tr>\n",
       "      <th>1</th>\n",
       "      <td>10/10/1949 21:00</td>\n",
       "      <td>lackland afb</td>\n",
       "      <td>tx</td>\n",
       "      <td>NaN</td>\n",
       "      <td>light</td>\n",
       "      <td>7200</td>\n",
       "      <td>1-2 hrs</td>\n",
       "      <td>1949 Lackland AFB&amp;#44 TX.  Lights racing acros...</td>\n",
       "      <td>12/16/2005</td>\n",
       "      <td>29.38421</td>\n",
       "      <td>-98.581082</td>\n",
       "    </tr>\n",
       "    <tr>\n",
       "      <th>2</th>\n",
       "      <td>10/10/1955 17:00</td>\n",
       "      <td>chester (uk/england)</td>\n",
       "      <td>NaN</td>\n",
       "      <td>gb</td>\n",
       "      <td>circle</td>\n",
       "      <td>20</td>\n",
       "      <td>20 seconds</td>\n",
       "      <td>Green/Orange circular disc over Chester&amp;#44 En...</td>\n",
       "      <td>1/21/2008</td>\n",
       "      <td>53.2</td>\n",
       "      <td>-2.916667</td>\n",
       "    </tr>\n",
       "    <tr>\n",
       "      <th>3</th>\n",
       "      <td>10/10/1956 21:00</td>\n",
       "      <td>edna</td>\n",
       "      <td>tx</td>\n",
       "      <td>us</td>\n",
       "      <td>circle</td>\n",
       "      <td>20</td>\n",
       "      <td>1/2 hour</td>\n",
       "      <td>My older brother and twin sister were leaving ...</td>\n",
       "      <td>1/17/2004</td>\n",
       "      <td>28.9783333</td>\n",
       "      <td>-96.645833</td>\n",
       "    </tr>\n",
       "    <tr>\n",
       "      <th>4</th>\n",
       "      <td>10/10/1960 20:00</td>\n",
       "      <td>kaneohe</td>\n",
       "      <td>hi</td>\n",
       "      <td>us</td>\n",
       "      <td>light</td>\n",
       "      <td>900</td>\n",
       "      <td>15 minutes</td>\n",
       "      <td>AS a Marine 1st Lt. flying an FJ4B fighter/att...</td>\n",
       "      <td>1/22/2004</td>\n",
       "      <td>21.4180556</td>\n",
       "      <td>-157.803611</td>\n",
       "    </tr>\n",
       "  </tbody>\n",
       "</table>\n",
       "</div>"
      ],
      "text/plain": [
       "           datetime                  city state country     shape  \\\n",
       "0  10/10/1949 20:30            san marcos    tx      us  cylinder   \n",
       "1  10/10/1949 21:00          lackland afb    tx     NaN     light   \n",
       "2  10/10/1955 17:00  chester (uk/england)   NaN      gb    circle   \n",
       "3  10/10/1956 21:00                  edna    tx      us    circle   \n",
       "4  10/10/1960 20:00               kaneohe    hi      us     light   \n",
       "\n",
       "  duration (seconds) duration (hours/min)  \\\n",
       "0               2700           45 minutes   \n",
       "1               7200              1-2 hrs   \n",
       "2                 20           20 seconds   \n",
       "3                 20             1/2 hour   \n",
       "4                900           15 minutes   \n",
       "\n",
       "                                            comments date posted    latitude  \\\n",
       "0  This event took place in early fall around 194...   4/27/2004  29.8830556   \n",
       "1  1949 Lackland AFB&#44 TX.  Lights racing acros...  12/16/2005    29.38421   \n",
       "2  Green/Orange circular disc over Chester&#44 En...   1/21/2008        53.2   \n",
       "3  My older brother and twin sister were leaving ...   1/17/2004  28.9783333   \n",
       "4  AS a Marine 1st Lt. flying an FJ4B fighter/att...   1/22/2004  21.4180556   \n",
       "\n",
       "   longitude   \n",
       "0  -97.941111  \n",
       "1  -98.581082  \n",
       "2   -2.916667  \n",
       "3  -96.645833  \n",
       "4 -157.803611  "
      ]
     },
     "execution_count": 2,
     "metadata": {},
     "output_type": "execute_result"
    }
   ],
   "source": [
    "ufos = pd.read_csv('../input/ufo-sightings/scrubbed.csv')\n",
    "ufos.head()\n",
    "#ufos.keys()\n",
    "#ufos.dtypes"
   ]
  },
  {
   "cell_type": "code",
   "execution_count": 3,
   "id": "c6173b3f",
   "metadata": {
    "execution": {
     "iopub.execute_input": "2022-05-27T15:26:52.837357Z",
     "iopub.status.busy": "2022-05-27T15:26:52.836763Z",
     "iopub.status.idle": "2022-05-27T15:26:52.954216Z",
     "shell.execute_reply": "2022-05-27T15:26:52.953150Z"
    },
    "papermill": {
     "duration": 0.127392,
     "end_time": "2022-05-27T15:26:52.956638",
     "exception": false,
     "start_time": "2022-05-27T15:26:52.829246",
     "status": "completed"
    },
    "tags": []
   },
   "outputs": [],
   "source": [
    "ufos['duration (seconds)'] = ufos['duration (seconds)'].str.strip('`')\n",
    "ufos['duration (seconds)'] = ufos['duration (seconds)'].astype(float)"
   ]
  },
  {
   "cell_type": "code",
   "execution_count": 4,
   "id": "c259156c",
   "metadata": {
    "execution": {
     "iopub.execute_input": "2022-05-27T15:26:52.970779Z",
     "iopub.status.busy": "2022-05-27T15:26:52.970406Z",
     "iopub.status.idle": "2022-05-27T15:26:53.019396Z",
     "shell.execute_reply": "2022-05-27T15:26:53.018510Z"
    },
    "papermill": {
     "duration": 0.058725,
     "end_time": "2022-05-27T15:26:53.021582",
     "exception": false,
     "start_time": "2022-05-27T15:26:52.962857",
     "status": "completed"
    },
    "tags": []
   },
   "outputs": [
    {
     "name": "stderr",
     "output_type": "stream",
     "text": [
      "/opt/conda/lib/python3.7/site-packages/ipykernel_launcher.py:2: SettingWithCopyWarning: \n",
      "A value is trying to be set on a copy of a slice from a DataFrame\n",
      "\n",
      "See the caveats in the documentation: https://pandas.pydata.org/pandas-docs/stable/user_guide/indexing.html#returning-a-view-versus-a-copy\n",
      "  \n"
     ]
    }
   ],
   "source": [
    "# Brute Force typecasting\n",
    "ufos['latitude'][ufos['latitude'] == '33q.200088'] = '33.200088'\n",
    "ufos['latitude'] = ufos['latitude'].astype(float)"
   ]
  },
  {
   "cell_type": "code",
   "execution_count": 5,
   "id": "cb872973",
   "metadata": {
    "execution": {
     "iopub.execute_input": "2022-05-27T15:26:53.036177Z",
     "iopub.status.busy": "2022-05-27T15:26:53.035488Z",
     "iopub.status.idle": "2022-05-27T15:26:53.510718Z",
     "shell.execute_reply": "2022-05-27T15:26:53.509798Z"
    },
    "papermill": {
     "duration": 0.484869,
     "end_time": "2022-05-27T15:26:53.512935",
     "exception": false,
     "start_time": "2022-05-27T15:26:53.028066",
     "status": "completed"
    },
    "tags": []
   },
   "outputs": [
    {
     "name": "stdout",
     "output_type": "stream",
     "text": [
      "<class 'pandas.core.frame.DataFrame'>\n",
      "RangeIndex: 80332 entries, 0 to 80331\n",
      "Data columns (total 11 columns):\n",
      " #   Column                Non-Null Count  Dtype  \n",
      "---  ------                --------------  -----  \n",
      " 0   datetime              80332 non-null  object \n",
      " 1   city                  80332 non-null  object \n",
      " 2   state                 74535 non-null  object \n",
      " 3   country               70662 non-null  object \n",
      " 4   shape                 78400 non-null  object \n",
      " 5   duration (seconds)    65536 non-null  float64\n",
      " 6   duration (hours/min)  80332 non-null  object \n",
      " 7   comments              80317 non-null  object \n",
      " 8   date posted           80332 non-null  object \n",
      " 9   latitude              80332 non-null  float64\n",
      " 10  longitude             80332 non-null  float64\n",
      "dtypes: float64(3), object(8)\n",
      "memory usage: 6.7+ MB\n"
     ]
    }
   ],
   "source": [
    "# Replace missing data with mode\n",
    "imputer = SimpleImputer(missing_values=np.nan, strategy='most_frequent')\n",
    "ufos_temp = imputer.fit_transform(ufos)\n",
    "ufos.info()"
   ]
  },
  {
   "cell_type": "code",
   "execution_count": 6,
   "id": "d1cd31dc",
   "metadata": {
    "execution": {
     "iopub.execute_input": "2022-05-27T15:26:53.528198Z",
     "iopub.status.busy": "2022-05-27T15:26:53.527656Z",
     "iopub.status.idle": "2022-05-27T15:26:53.558974Z",
     "shell.execute_reply": "2022-05-27T15:26:53.558171Z"
    },
    "papermill": {
     "duration": 0.041746,
     "end_time": "2022-05-27T15:26:53.561193",
     "exception": false,
     "start_time": "2022-05-27T15:26:53.519447",
     "status": "completed"
    },
    "tags": []
   },
   "outputs": [
    {
     "data": {
      "text/html": [
       "<div>\n",
       "<style scoped>\n",
       "    .dataframe tbody tr th:only-of-type {\n",
       "        vertical-align: middle;\n",
       "    }\n",
       "\n",
       "    .dataframe tbody tr th {\n",
       "        vertical-align: top;\n",
       "    }\n",
       "\n",
       "    .dataframe thead th {\n",
       "        text-align: right;\n",
       "    }\n",
       "</style>\n",
       "<table border=\"1\" class=\"dataframe\">\n",
       "  <thead>\n",
       "    <tr style=\"text-align: right;\">\n",
       "      <th></th>\n",
       "      <th>datetime</th>\n",
       "      <th>city</th>\n",
       "      <th>state</th>\n",
       "      <th>country</th>\n",
       "      <th>shape</th>\n",
       "      <th>duration (seconds)</th>\n",
       "      <th>duration (hours/min)</th>\n",
       "      <th>comments</th>\n",
       "      <th>date posted</th>\n",
       "      <th>latitude</th>\n",
       "      <th>longitude</th>\n",
       "    </tr>\n",
       "  </thead>\n",
       "  <tbody>\n",
       "    <tr>\n",
       "      <th>0</th>\n",
       "      <td>10/10/1949 20:30</td>\n",
       "      <td>san marcos</td>\n",
       "      <td>tx</td>\n",
       "      <td>us</td>\n",
       "      <td>cylinder</td>\n",
       "      <td>2700.0</td>\n",
       "      <td>45 minutes</td>\n",
       "      <td>This event took place in early fall around 194...</td>\n",
       "      <td>4/27/2004</td>\n",
       "      <td>29.883056</td>\n",
       "      <td>-97.941111</td>\n",
       "    </tr>\n",
       "    <tr>\n",
       "      <th>1</th>\n",
       "      <td>10/10/1949 21:00</td>\n",
       "      <td>lackland afb</td>\n",
       "      <td>tx</td>\n",
       "      <td>us</td>\n",
       "      <td>light</td>\n",
       "      <td>7200.0</td>\n",
       "      <td>1-2 hrs</td>\n",
       "      <td>1949 Lackland AFB&amp;#44 TX.  Lights racing acros...</td>\n",
       "      <td>12/16/2005</td>\n",
       "      <td>29.38421</td>\n",
       "      <td>-98.581082</td>\n",
       "    </tr>\n",
       "    <tr>\n",
       "      <th>2</th>\n",
       "      <td>10/10/1955 17:00</td>\n",
       "      <td>chester (uk/england)</td>\n",
       "      <td>ca</td>\n",
       "      <td>gb</td>\n",
       "      <td>circle</td>\n",
       "      <td>20.0</td>\n",
       "      <td>20 seconds</td>\n",
       "      <td>Green/Orange circular disc over Chester&amp;#44 En...</td>\n",
       "      <td>1/21/2008</td>\n",
       "      <td>53.2</td>\n",
       "      <td>-2.916667</td>\n",
       "    </tr>\n",
       "    <tr>\n",
       "      <th>3</th>\n",
       "      <td>10/10/1956 21:00</td>\n",
       "      <td>edna</td>\n",
       "      <td>tx</td>\n",
       "      <td>us</td>\n",
       "      <td>circle</td>\n",
       "      <td>20.0</td>\n",
       "      <td>1/2 hour</td>\n",
       "      <td>My older brother and twin sister were leaving ...</td>\n",
       "      <td>1/17/2004</td>\n",
       "      <td>28.978333</td>\n",
       "      <td>-96.645833</td>\n",
       "    </tr>\n",
       "    <tr>\n",
       "      <th>4</th>\n",
       "      <td>10/10/1960 20:00</td>\n",
       "      <td>kaneohe</td>\n",
       "      <td>hi</td>\n",
       "      <td>us</td>\n",
       "      <td>light</td>\n",
       "      <td>900.0</td>\n",
       "      <td>15 minutes</td>\n",
       "      <td>AS a Marine 1st Lt. flying an FJ4B fighter/att...</td>\n",
       "      <td>1/22/2004</td>\n",
       "      <td>21.418056</td>\n",
       "      <td>-157.803611</td>\n",
       "    </tr>\n",
       "  </tbody>\n",
       "</table>\n",
       "</div>"
      ],
      "text/plain": [
       "           datetime                  city state country     shape  \\\n",
       "0  10/10/1949 20:30            san marcos    tx      us  cylinder   \n",
       "1  10/10/1949 21:00          lackland afb    tx      us     light   \n",
       "2  10/10/1955 17:00  chester (uk/england)    ca      gb    circle   \n",
       "3  10/10/1956 21:00                  edna    tx      us    circle   \n",
       "4  10/10/1960 20:00               kaneohe    hi      us     light   \n",
       "\n",
       "  duration (seconds) duration (hours/min)  \\\n",
       "0             2700.0           45 minutes   \n",
       "1             7200.0              1-2 hrs   \n",
       "2               20.0           20 seconds   \n",
       "3               20.0             1/2 hour   \n",
       "4              900.0           15 minutes   \n",
       "\n",
       "                                            comments date posted   latitude  \\\n",
       "0  This event took place in early fall around 194...   4/27/2004  29.883056   \n",
       "1  1949 Lackland AFB&#44 TX.  Lights racing acros...  12/16/2005   29.38421   \n",
       "2  Green/Orange circular disc over Chester&#44 En...   1/21/2008       53.2   \n",
       "3  My older brother and twin sister were leaving ...   1/17/2004  28.978333   \n",
       "4  AS a Marine 1st Lt. flying an FJ4B fighter/att...   1/22/2004  21.418056   \n",
       "\n",
       "   longitude   \n",
       "0  -97.941111  \n",
       "1  -98.581082  \n",
       "2   -2.916667  \n",
       "3  -96.645833  \n",
       "4 -157.803611  "
      ]
     },
     "execution_count": 6,
     "metadata": {},
     "output_type": "execute_result"
    }
   ],
   "source": [
    "titles = ['datetime', 'city', 'state', 'country', 'shape', 'duration (seconds)',\n",
    "       'duration (hours/min)', 'comments', 'date posted', 'latitude',\n",
    "       'longitude ']\n",
    "uf = pd.DataFrame(ufos_temp, columns=titles)\n",
    "uf.head()"
   ]
  },
  {
   "cell_type": "code",
   "execution_count": 7,
   "id": "968c6e82",
   "metadata": {
    "execution": {
     "iopub.execute_input": "2022-05-27T15:26:53.576334Z",
     "iopub.status.busy": "2022-05-27T15:26:53.575720Z",
     "iopub.status.idle": "2022-05-27T15:26:53.583740Z",
     "shell.execute_reply": "2022-05-27T15:26:53.582937Z"
    },
    "papermill": {
     "duration": 0.018089,
     "end_time": "2022-05-27T15:26:53.585980",
     "exception": false,
     "start_time": "2022-05-27T15:26:53.567891",
     "status": "completed"
    },
    "tags": []
   },
   "outputs": [],
   "source": [
    "# Creating a new dataframe with specific features.\n",
    "ufos_true = pd.DataFrame({'Seconds': uf['duration (seconds)'], 'Country': uf['country'],'Latitude': uf['latitude'],'Longitude': uf['longitude '], 'Shape': uf['shape']})\n"
   ]
  },
  {
   "cell_type": "code",
   "execution_count": 8,
   "id": "aa487924",
   "metadata": {
    "execution": {
     "iopub.execute_input": "2022-05-27T15:26:53.600921Z",
     "iopub.status.busy": "2022-05-27T15:26:53.600498Z",
     "iopub.status.idle": "2022-05-27T15:26:53.612261Z",
     "shell.execute_reply": "2022-05-27T15:26:53.611409Z"
    },
    "papermill": {
     "duration": 0.021531,
     "end_time": "2022-05-27T15:26:53.614066",
     "exception": false,
     "start_time": "2022-05-27T15:26:53.592535",
     "status": "completed"
    },
    "tags": []
   },
   "outputs": [
    {
     "data": {
      "text/plain": [
       "array(['us', 'gb', 'ca', 'au', 'de'], dtype=object)"
      ]
     },
     "execution_count": 8,
     "metadata": {},
     "output_type": "execute_result"
    }
   ],
   "source": [
    "ufos_true.Country.unique()"
   ]
  },
  {
   "cell_type": "code",
   "execution_count": 9,
   "id": "051da722",
   "metadata": {
    "execution": {
     "iopub.execute_input": "2022-05-27T15:26:53.629560Z",
     "iopub.status.busy": "2022-05-27T15:26:53.628905Z",
     "iopub.status.idle": "2022-05-27T15:26:53.668283Z",
     "shell.execute_reply": "2022-05-27T15:26:53.667212Z"
    },
    "papermill": {
     "duration": 0.04975,
     "end_time": "2022-05-27T15:26:53.670505",
     "exception": false,
     "start_time": "2022-05-27T15:26:53.620755",
     "status": "completed"
    },
    "tags": []
   },
   "outputs": [],
   "source": [
    "# Being pedantic, but doesn't hurt to check.\n",
    "ufos_true.dropna(inplace=True)"
   ]
  },
  {
   "cell_type": "code",
   "execution_count": 10,
   "id": "c1fc05e3",
   "metadata": {
    "execution": {
     "iopub.execute_input": "2022-05-27T15:26:53.686267Z",
     "iopub.status.busy": "2022-05-27T15:26:53.685439Z",
     "iopub.status.idle": "2022-05-27T15:26:53.700733Z",
     "shell.execute_reply": "2022-05-27T15:26:53.699561Z"
    },
    "papermill": {
     "duration": 0.027138,
     "end_time": "2022-05-27T15:26:53.704540",
     "exception": false,
     "start_time": "2022-05-27T15:26:53.677402",
     "status": "completed"
    },
    "tags": []
   },
   "outputs": [
    {
     "data": {
      "text/html": [
       "<div>\n",
       "<style scoped>\n",
       "    .dataframe tbody tr th:only-of-type {\n",
       "        vertical-align: middle;\n",
       "    }\n",
       "\n",
       "    .dataframe tbody tr th {\n",
       "        vertical-align: top;\n",
       "    }\n",
       "\n",
       "    .dataframe thead th {\n",
       "        text-align: right;\n",
       "    }\n",
       "</style>\n",
       "<table border=\"1\" class=\"dataframe\">\n",
       "  <thead>\n",
       "    <tr style=\"text-align: right;\">\n",
       "      <th></th>\n",
       "      <th>Seconds</th>\n",
       "      <th>Country</th>\n",
       "      <th>Latitude</th>\n",
       "      <th>Longitude</th>\n",
       "      <th>Shape</th>\n",
       "    </tr>\n",
       "  </thead>\n",
       "  <tbody>\n",
       "    <tr>\n",
       "      <th>0</th>\n",
       "      <td>2700.0</td>\n",
       "      <td>us</td>\n",
       "      <td>29.883056</td>\n",
       "      <td>-97.941111</td>\n",
       "      <td>cylinder</td>\n",
       "    </tr>\n",
       "    <tr>\n",
       "      <th>1</th>\n",
       "      <td>7200.0</td>\n",
       "      <td>us</td>\n",
       "      <td>29.38421</td>\n",
       "      <td>-98.581082</td>\n",
       "      <td>light</td>\n",
       "    </tr>\n",
       "    <tr>\n",
       "      <th>2</th>\n",
       "      <td>20.0</td>\n",
       "      <td>gb</td>\n",
       "      <td>53.2</td>\n",
       "      <td>-2.916667</td>\n",
       "      <td>circle</td>\n",
       "    </tr>\n",
       "    <tr>\n",
       "      <th>3</th>\n",
       "      <td>20.0</td>\n",
       "      <td>us</td>\n",
       "      <td>28.978333</td>\n",
       "      <td>-96.645833</td>\n",
       "      <td>circle</td>\n",
       "    </tr>\n",
       "    <tr>\n",
       "      <th>4</th>\n",
       "      <td>900.0</td>\n",
       "      <td>us</td>\n",
       "      <td>21.418056</td>\n",
       "      <td>-157.803611</td>\n",
       "      <td>light</td>\n",
       "    </tr>\n",
       "    <tr>\n",
       "      <th>...</th>\n",
       "      <td>...</td>\n",
       "      <td>...</td>\n",
       "      <td>...</td>\n",
       "      <td>...</td>\n",
       "      <td>...</td>\n",
       "    </tr>\n",
       "    <tr>\n",
       "      <th>80327</th>\n",
       "      <td>300.0</td>\n",
       "      <td>us</td>\n",
       "      <td>36.165833</td>\n",
       "      <td>-86.784444</td>\n",
       "      <td>light</td>\n",
       "    </tr>\n",
       "    <tr>\n",
       "      <th>80328</th>\n",
       "      <td>300.0</td>\n",
       "      <td>us</td>\n",
       "      <td>43.613611</td>\n",
       "      <td>-116.2025</td>\n",
       "      <td>circle</td>\n",
       "    </tr>\n",
       "    <tr>\n",
       "      <th>80329</th>\n",
       "      <td>300.0</td>\n",
       "      <td>us</td>\n",
       "      <td>38.297222</td>\n",
       "      <td>-122.284444</td>\n",
       "      <td>other</td>\n",
       "    </tr>\n",
       "    <tr>\n",
       "      <th>80330</th>\n",
       "      <td>300.0</td>\n",
       "      <td>us</td>\n",
       "      <td>38.901111</td>\n",
       "      <td>-77.265556</td>\n",
       "      <td>circle</td>\n",
       "    </tr>\n",
       "    <tr>\n",
       "      <th>80331</th>\n",
       "      <td>300.0</td>\n",
       "      <td>us</td>\n",
       "      <td>35.652778</td>\n",
       "      <td>-97.477778</td>\n",
       "      <td>cigar</td>\n",
       "    </tr>\n",
       "  </tbody>\n",
       "</table>\n",
       "<p>80332 rows × 5 columns</p>\n",
       "</div>"
      ],
      "text/plain": [
       "      Seconds Country   Latitude   Longitude     Shape\n",
       "0      2700.0      us  29.883056  -97.941111  cylinder\n",
       "1      7200.0      us   29.38421  -98.581082     light\n",
       "2        20.0      gb       53.2   -2.916667    circle\n",
       "3        20.0      us  28.978333  -96.645833    circle\n",
       "4       900.0      us  21.418056 -157.803611     light\n",
       "...       ...     ...        ...         ...       ...\n",
       "80327   300.0      us  36.165833  -86.784444     light\n",
       "80328   300.0      us  43.613611   -116.2025    circle\n",
       "80329   300.0      us  38.297222 -122.284444     other\n",
       "80330   300.0      us  38.901111  -77.265556    circle\n",
       "80331   300.0      us  35.652778  -97.477778     cigar\n",
       "\n",
       "[80332 rows x 5 columns]"
      ]
     },
     "execution_count": 10,
     "metadata": {},
     "output_type": "execute_result"
    }
   ],
   "source": [
    "ufos_true"
   ]
  },
  {
   "cell_type": "code",
   "execution_count": 11,
   "id": "33d15154",
   "metadata": {
    "execution": {
     "iopub.execute_input": "2022-05-27T15:26:53.720298Z",
     "iopub.status.busy": "2022-05-27T15:26:53.719579Z",
     "iopub.status.idle": "2022-05-27T15:26:53.776358Z",
     "shell.execute_reply": "2022-05-27T15:26:53.775490Z"
    },
    "papermill": {
     "duration": 0.067316,
     "end_time": "2022-05-27T15:26:53.778733",
     "exception": false,
     "start_time": "2022-05-27T15:26:53.711417",
     "status": "completed"
    },
    "tags": []
   },
   "outputs": [],
   "source": [
    "# Encoding Categorical features\n",
    "from sklearn.preprocessing import LabelEncoder\n",
    "ufos_true['Country'] = LabelEncoder().fit_transform(ufos_true['Country'])\n",
    "ufos_true['Shape'] = LabelEncoder().fit_transform(ufos_true['Shape'])"
   ]
  },
  {
   "cell_type": "code",
   "execution_count": 12,
   "id": "3edef89d",
   "metadata": {
    "execution": {
     "iopub.execute_input": "2022-05-27T15:26:53.794537Z",
     "iopub.status.busy": "2022-05-27T15:26:53.793989Z",
     "iopub.status.idle": "2022-05-27T15:26:53.816650Z",
     "shell.execute_reply": "2022-05-27T15:26:53.815807Z"
    },
    "papermill": {
     "duration": 0.032993,
     "end_time": "2022-05-27T15:26:53.818757",
     "exception": false,
     "start_time": "2022-05-27T15:26:53.785764",
     "status": "completed"
    },
    "tags": []
   },
   "outputs": [
    {
     "data": {
      "text/html": [
       "<div>\n",
       "<style scoped>\n",
       "    .dataframe tbody tr th:only-of-type {\n",
       "        vertical-align: middle;\n",
       "    }\n",
       "\n",
       "    .dataframe tbody tr th {\n",
       "        vertical-align: top;\n",
       "    }\n",
       "\n",
       "    .dataframe thead th {\n",
       "        text-align: right;\n",
       "    }\n",
       "</style>\n",
       "<table border=\"1\" class=\"dataframe\">\n",
       "  <thead>\n",
       "    <tr style=\"text-align: right;\">\n",
       "      <th></th>\n",
       "      <th>Seconds</th>\n",
       "      <th>Country</th>\n",
       "      <th>Latitude</th>\n",
       "      <th>Longitude</th>\n",
       "      <th>Shape</th>\n",
       "    </tr>\n",
       "  </thead>\n",
       "  <tbody>\n",
       "    <tr>\n",
       "      <th>0</th>\n",
       "      <td>2700.0</td>\n",
       "      <td>4</td>\n",
       "      <td>29.883056</td>\n",
       "      <td>-97.941111</td>\n",
       "      <td>8</td>\n",
       "    </tr>\n",
       "    <tr>\n",
       "      <th>1</th>\n",
       "      <td>7200.0</td>\n",
       "      <td>4</td>\n",
       "      <td>29.38421</td>\n",
       "      <td>-98.581082</td>\n",
       "      <td>19</td>\n",
       "    </tr>\n",
       "    <tr>\n",
       "      <th>2</th>\n",
       "      <td>20.0</td>\n",
       "      <td>3</td>\n",
       "      <td>53.2</td>\n",
       "      <td>-2.916667</td>\n",
       "      <td>4</td>\n",
       "    </tr>\n",
       "    <tr>\n",
       "      <th>3</th>\n",
       "      <td>20.0</td>\n",
       "      <td>4</td>\n",
       "      <td>28.978333</td>\n",
       "      <td>-96.645833</td>\n",
       "      <td>4</td>\n",
       "    </tr>\n",
       "    <tr>\n",
       "      <th>4</th>\n",
       "      <td>900.0</td>\n",
       "      <td>4</td>\n",
       "      <td>21.418056</td>\n",
       "      <td>-157.803611</td>\n",
       "      <td>19</td>\n",
       "    </tr>\n",
       "    <tr>\n",
       "      <th>...</th>\n",
       "      <td>...</td>\n",
       "      <td>...</td>\n",
       "      <td>...</td>\n",
       "      <td>...</td>\n",
       "      <td>...</td>\n",
       "    </tr>\n",
       "    <tr>\n",
       "      <th>80327</th>\n",
       "      <td>300.0</td>\n",
       "      <td>4</td>\n",
       "      <td>36.165833</td>\n",
       "      <td>-86.784444</td>\n",
       "      <td>19</td>\n",
       "    </tr>\n",
       "    <tr>\n",
       "      <th>80328</th>\n",
       "      <td>300.0</td>\n",
       "      <td>4</td>\n",
       "      <td>43.613611</td>\n",
       "      <td>-116.2025</td>\n",
       "      <td>4</td>\n",
       "    </tr>\n",
       "    <tr>\n",
       "      <th>80329</th>\n",
       "      <td>300.0</td>\n",
       "      <td>4</td>\n",
       "      <td>38.297222</td>\n",
       "      <td>-122.284444</td>\n",
       "      <td>20</td>\n",
       "    </tr>\n",
       "    <tr>\n",
       "      <th>80330</th>\n",
       "      <td>300.0</td>\n",
       "      <td>4</td>\n",
       "      <td>38.901111</td>\n",
       "      <td>-77.265556</td>\n",
       "      <td>4</td>\n",
       "    </tr>\n",
       "    <tr>\n",
       "      <th>80331</th>\n",
       "      <td>300.0</td>\n",
       "      <td>4</td>\n",
       "      <td>35.652778</td>\n",
       "      <td>-97.477778</td>\n",
       "      <td>3</td>\n",
       "    </tr>\n",
       "  </tbody>\n",
       "</table>\n",
       "<p>80331 rows × 5 columns</p>\n",
       "</div>"
      ],
      "text/plain": [
       "      Seconds  Country   Latitude   Longitude  Shape\n",
       "0      2700.0        4  29.883056  -97.941111      8\n",
       "1      7200.0        4   29.38421  -98.581082     19\n",
       "2        20.0        3       53.2   -2.916667      4\n",
       "3        20.0        4  28.978333  -96.645833      4\n",
       "4       900.0        4  21.418056 -157.803611     19\n",
       "...       ...      ...        ...         ...    ...\n",
       "80327   300.0        4  36.165833  -86.784444     19\n",
       "80328   300.0        4  43.613611   -116.2025      4\n",
       "80329   300.0        4  38.297222 -122.284444     20\n",
       "80330   300.0        4  38.901111  -77.265556      4\n",
       "80331   300.0        4  35.652778  -97.477778      3\n",
       "\n",
       "[80331 rows x 5 columns]"
      ]
     },
     "execution_count": 12,
     "metadata": {},
     "output_type": "execute_result"
    }
   ],
   "source": [
    "# Dropping Shape due to mislabelling.\n",
    "ufos_true[ufos_true['Shape']!= 0]\n",
    "#ufos_true.drop(['Shape'], axis=1,inplace=True)"
   ]
  },
  {
   "cell_type": "code",
   "execution_count": 13,
   "id": "6d158e03",
   "metadata": {
    "execution": {
     "iopub.execute_input": "2022-05-27T15:26:53.835540Z",
     "iopub.status.busy": "2022-05-27T15:26:53.834991Z",
     "iopub.status.idle": "2022-05-27T15:26:53.845608Z",
     "shell.execute_reply": "2022-05-27T15:26:53.844617Z"
    },
    "papermill": {
     "duration": 0.021745,
     "end_time": "2022-05-27T15:26:53.848062",
     "exception": false,
     "start_time": "2022-05-27T15:26:53.826317",
     "status": "completed"
    },
    "tags": []
   },
   "outputs": [
    {
     "data": {
      "text/plain": [
       "<bound method NDFrame.describe of       Seconds  Country   Latitude   Longitude  Shape\n",
       "0      2700.0        4  29.883056  -97.941111      8\n",
       "1      7200.0        4   29.38421  -98.581082     19\n",
       "2        20.0        3       53.2   -2.916667      4\n",
       "3        20.0        4  28.978333  -96.645833      4\n",
       "4       900.0        4  21.418056 -157.803611     19\n",
       "...       ...      ...        ...         ...    ...\n",
       "80327   300.0        4  36.165833  -86.784444     19\n",
       "80328   300.0        4  43.613611   -116.2025      4\n",
       "80329   300.0        4  38.297222 -122.284444     20\n",
       "80330   300.0        4  38.901111  -77.265556      4\n",
       "80331   300.0        4  35.652778  -97.477778      3\n",
       "\n",
       "[80332 rows x 5 columns]>"
      ]
     },
     "execution_count": 13,
     "metadata": {},
     "output_type": "execute_result"
    }
   ],
   "source": [
    "ufos_true.describe\n"
   ]
  },
  {
   "cell_type": "code",
   "execution_count": 14,
   "id": "e9ae4833",
   "metadata": {
    "execution": {
     "iopub.execute_input": "2022-05-27T15:26:53.865507Z",
     "iopub.status.busy": "2022-05-27T15:26:53.864776Z",
     "iopub.status.idle": "2022-05-27T15:26:53.893846Z",
     "shell.execute_reply": "2022-05-27T15:26:53.892751Z"
    },
    "papermill": {
     "duration": 0.040915,
     "end_time": "2022-05-27T15:26:53.896297",
     "exception": false,
     "start_time": "2022-05-27T15:26:53.855382",
     "status": "completed"
    },
    "tags": []
   },
   "outputs": [],
   "source": [
    "from sklearn.model_selection import train_test_split\n",
    "from sklearn.linear_model import LogisticRegression\n",
    "from sklearn.metrics import accuracy_score, classification_report\n",
    "from sklearn.preprocessing import StandardScaler\n",
    "from sklearn.pipeline import Pipeline\n",
    "\n",
    "# getting features and splitting them.\n",
    "features = ['Seconds', 'Latitude', 'Longitude']\n",
    "\n",
    "X = ufos_true[features]\n",
    "y = ufos_true['Country']\n",
    "\n",
    "X_train, X_test, y_train, y_test = train_test_split(X, y, test_size=0.33, random_state=0)"
   ]
  },
  {
   "cell_type": "code",
   "execution_count": 15,
   "id": "2549bd06",
   "metadata": {
    "execution": {
     "iopub.execute_input": "2022-05-27T15:26:53.912999Z",
     "iopub.status.busy": "2022-05-27T15:26:53.912585Z",
     "iopub.status.idle": "2022-05-27T15:26:59.478664Z",
     "shell.execute_reply": "2022-05-27T15:26:59.477557Z"
    },
    "papermill": {
     "duration": 5.578208,
     "end_time": "2022-05-27T15:26:59.481933",
     "exception": false,
     "start_time": "2022-05-27T15:26:53.903725",
     "status": "completed"
    },
    "tags": []
   },
   "outputs": [],
   "source": [
    "# instantiating and fitting, and predicting with the model\n",
    "pipe = Pipeline([('scaler', StandardScaler()),('model', LogisticRegression(max_iter=500))])\n",
    "#model = LogisticRegression()\n",
    "pipe.fit(X_train, y_train)\n",
    "predictions = pipe.predict(X_test)"
   ]
  },
  {
   "cell_type": "code",
   "execution_count": 16,
   "id": "6849619c",
   "metadata": {
    "execution": {
     "iopub.execute_input": "2022-05-27T15:26:59.510746Z",
     "iopub.status.busy": "2022-05-27T15:26:59.510149Z",
     "iopub.status.idle": "2022-05-27T15:26:59.586741Z",
     "shell.execute_reply": "2022-05-27T15:26:59.585807Z"
    },
    "papermill": {
     "duration": 0.097424,
     "end_time": "2022-05-27T15:26:59.592728",
     "exception": false,
     "start_time": "2022-05-27T15:26:59.495304",
     "status": "completed"
    },
    "tags": []
   },
   "outputs": [
    {
     "name": "stdout",
     "output_type": "stream",
     "text": [
      "              precision    recall  f1-score   support\n",
      "\n",
      "           0       0.75      0.93      0.83       175\n",
      "           1       0.10      0.01      0.02      1048\n",
      "           2       0.00      0.00      0.00        33\n",
      "           3       0.66      0.96      0.78       656\n",
      "           4       0.96      0.98      0.97     24598\n",
      "\n",
      "    accuracy                           0.94     26510\n",
      "   macro avg       0.49      0.58      0.52     26510\n",
      "weighted avg       0.91      0.94      0.92     26510\n",
      "\n",
      "Predicted labels:  [4 3 4 ... 4 4 4]\n",
      "Accuracy:  0.9401735194266314\n"
     ]
    },
    {
     "name": "stderr",
     "output_type": "stream",
     "text": [
      "/opt/conda/lib/python3.7/site-packages/sklearn/metrics/_classification.py:1318: UndefinedMetricWarning: Precision and F-score are ill-defined and being set to 0.0 in labels with no predicted samples. Use `zero_division` parameter to control this behavior.\n",
      "  _warn_prf(average, modifier, msg_start, len(result))\n",
      "/opt/conda/lib/python3.7/site-packages/sklearn/metrics/_classification.py:1318: UndefinedMetricWarning: Precision and F-score are ill-defined and being set to 0.0 in labels with no predicted samples. Use `zero_division` parameter to control this behavior.\n",
      "  _warn_prf(average, modifier, msg_start, len(result))\n",
      "/opt/conda/lib/python3.7/site-packages/sklearn/metrics/_classification.py:1318: UndefinedMetricWarning: Precision and F-score are ill-defined and being set to 0.0 in labels with no predicted samples. Use `zero_division` parameter to control this behavior.\n",
      "  _warn_prf(average, modifier, msg_start, len(result))\n"
     ]
    }
   ],
   "source": [
    "print(classification_report(y_test, predictions))\n",
    "print('Predicted labels: ', predictions)\n",
    "print('Accuracy: ', accuracy_score(y_test, predictions))"
   ]
  },
  {
   "cell_type": "code",
   "execution_count": 17,
   "id": "509df2e3",
   "metadata": {
    "execution": {
     "iopub.execute_input": "2022-05-27T15:26:59.610984Z",
     "iopub.status.busy": "2022-05-27T15:26:59.610568Z",
     "iopub.status.idle": "2022-05-27T15:26:59.622174Z",
     "shell.execute_reply": "2022-05-27T15:26:59.621079Z"
    },
    "papermill": {
     "duration": 0.023453,
     "end_time": "2022-05-27T15:26:59.625365",
     "exception": false,
     "start_time": "2022-05-27T15:26:59.601912",
     "status": "completed"
    },
    "tags": []
   },
   "outputs": [
    {
     "name": "stdout",
     "output_type": "stream",
     "text": [
      "[4]\n"
     ]
    },
    {
     "name": "stderr",
     "output_type": "stream",
     "text": [
      "/opt/conda/lib/python3.7/site-packages/sklearn/base.py:451: UserWarning: X does not have valid feature names, but StandardScaler was fitted with feature names\n",
      "  \"X does not have valid feature names, but\"\n"
     ]
    }
   ],
   "source": [
    "import pickle\n",
    "model_filename = 'ufo-model.pkl'\n",
    "pickle.dump(pipe, open(model_filename,'wb'))\n",
    "\n",
    "\n",
    "model = pickle.load(open('ufo-model.pkl','rb'))\n",
    "print(pipe.predict([[50,44,-12]]))"
   ]
  },
  {
   "cell_type": "code",
   "execution_count": null,
   "id": "3c240a43",
   "metadata": {
    "papermill": {
     "duration": 0.007411,
     "end_time": "2022-05-27T15:26:59.640692",
     "exception": false,
     "start_time": "2022-05-27T15:26:59.633281",
     "status": "completed"
    },
    "tags": []
   },
   "outputs": [],
   "source": []
  }
 ],
 "metadata": {
  "kernelspec": {
   "display_name": "Python 3",
   "language": "python",
   "name": "python3"
  },
  "language_info": {
   "codemirror_mode": {
    "name": "ipython",
    "version": 3
   },
   "file_extension": ".py",
   "mimetype": "text/x-python",
   "name": "python",
   "nbconvert_exporter": "python",
   "pygments_lexer": "ipython3",
   "version": "3.7.12"
  },
  "papermill": {
   "default_parameters": {},
   "duration": 20.168829,
   "end_time": "2022-05-27T15:27:00.471182",
   "environment_variables": {},
   "exception": null,
   "input_path": "__notebook__.ipynb",
   "output_path": "__notebook__.ipynb",
   "parameters": {},
   "start_time": "2022-05-27T15:26:40.302353",
   "version": "2.3.4"
  }
 },
 "nbformat": 4,
 "nbformat_minor": 5
}
